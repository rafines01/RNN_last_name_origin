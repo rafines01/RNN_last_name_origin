{
  "cells": [
    {
      "cell_type": "markdown",
      "metadata": {
        "id": "bqDIKX34u44y"
      },
      "source": [
        "# RNN for Last Name Classification\n",
        "\n",
        "## Overview\n",
        "In this deep learning project, we will train a neural network to predict the probable language of origin for a given last name or family name written in Latin alphabets. This project involves:\n",
        "\n",
        "- Preprocessing raw text data to prepare it for input into a Recurrent Neural Network (RNN) and optionally an LSTM model.\n",
        "- Using PyTorch to implement and train a recurrent neural network, leveraging modern deep learning tools.\n",
        "- Evaluating the model's performance and making predictions on unseen data to assess its accuracy and generalization capabilities.\n",
        "\n",
        "By working on this project, we aim to develop a deeper understanding of character-level NLP models, explore the intricacies of recurrent neural networks, and apply these methods to a practical problem involving multilingual last names. The ultimate goal is to accurately classify a surname into its most probable language of origin, gaining insights into how these neural architectures handle sequence data."
      ],
      "id": "bqDIKX34u44y"
    },
    {
      "cell_type": "markdown",
      "source": [
        "## Step 1: Loading Dataset"
      ],
      "metadata": {
        "id": "N1FWohtj-8Bb"
      },
      "id": "N1FWohtj-8Bb"
    },
    {
      "cell_type": "code",
      "execution_count": 1,
      "metadata": {
        "id": "download_setup",
        "colab": {
          "base_uri": "https://localhost:8080/"
        },
        "outputId": "528adb85-930d-4e61-cf93-a0906879682c"
      },
      "outputs": [
        {
          "output_type": "stream",
          "name": "stdout",
          "text": [
            "--2024-12-07 02:36:17--  https://download.pytorch.org/tutorial/data.zip\n",
            "Resolving download.pytorch.org (download.pytorch.org)... 18.164.154.30, 18.164.154.17, 18.164.154.37, ...\n",
            "Connecting to download.pytorch.org (download.pytorch.org)|18.164.154.30|:443... connected.\n",
            "HTTP request sent, awaiting response... 200 OK\n",
            "Length: 2882130 (2.7M) [application/zip]\n",
            "Saving to: ‘data.zip’\n",
            "\n",
            "\rdata.zip              0%[                    ]       0  --.-KB/s               \rdata.zip            100%[===================>]   2.75M  --.-KB/s    in 0.06s   \n",
            "\n",
            "2024-12-07 02:36:17 (44.8 MB/s) - ‘data.zip’ saved [2882130/2882130]\n",
            "\n",
            "Archive:  data.zip\n",
            "   creating: data/\n",
            "  inflating: data/eng-fra.txt        \n",
            "   creating: data/names/\n",
            "  inflating: data/names/Arabic.txt   \n",
            "  inflating: data/names/Chinese.txt  \n",
            "  inflating: data/names/Czech.txt    \n",
            "  inflating: data/names/Dutch.txt    \n",
            "  inflating: data/names/English.txt  \n",
            "  inflating: data/names/French.txt   \n",
            "  inflating: data/names/German.txt   \n",
            "  inflating: data/names/Greek.txt    \n",
            "  inflating: data/names/Irish.txt    \n",
            "  inflating: data/names/Italian.txt  \n",
            "  inflating: data/names/Japanese.txt  \n",
            "  inflating: data/names/Korean.txt   \n",
            "  inflating: data/names/Polish.txt   \n",
            "  inflating: data/names/Portuguese.txt  \n",
            "  inflating: data/names/Russian.txt  \n",
            "  inflating: data/names/Scottish.txt  \n",
            "  inflating: data/names/Spanish.txt  \n",
            "  inflating: data/names/Vietnamese.txt  \n"
          ]
        }
      ],
      "source": [
        "import os\n",
        "\n",
        "if not os.path.exists(\"data\"):\n",
        "    !wget https://download.pytorch.org/tutorial/data.zip\n",
        "    !unzip data"
      ],
      "id": "download_setup"
    },
    {
      "cell_type": "markdown",
      "metadata": {
        "id": "Y0T2zIs-u445"
      },
      "source": [
        "## Step 2: Library Imports"
      ],
      "id": "Y0T2zIs-u445"
    },
    {
      "cell_type": "code",
      "execution_count": 2,
      "metadata": {
        "id": "5NBPePQ6u446"
      },
      "outputs": [],
      "source": [
        "import os\n",
        "import sys\n",
        "import torch\n",
        "from torch import nn\n",
        "import torch.nn.functional as F\n",
        "import torch.optim as optim\n",
        "import random\n",
        "import numpy as np\n",
        "import json\n",
        "import matplotlib.pyplot as plt\n",
        "from tqdm import tqdm\n",
        "\n",
        "device = torch.device(\"cuda\" if torch.cuda.is_available() else \"cpu\")"
      ],
      "id": "5NBPePQ6u446"
    },
    {
      "cell_type": "markdown",
      "metadata": {
        "id": "IDAk4vS_u446"
      },
      "source": [
        "## Step 3: Implement the Neural Network"
      ],
      "id": "IDAk4vS_u446"
    },
    {
      "cell_type": "code",
      "execution_count": 3,
      "metadata": {
        "id": "fL-rZK68u446"
      },
      "outputs": [],
      "source": [
        "class RecurrentClassifier(nn.Module):\n",
        "    def __init__(self, vocab_size: int, rnn_size: int, n_categories: int, num_layers: int = 1, dropout: float = 0.0, model_type: str = 'lstm'):\n",
        "        super().__init__()\n",
        "        self.rnn_size = rnn_size\n",
        "        self.model_type = model_type\n",
        "\n",
        "        self.embedding = nn.Embedding(vocab_size, rnn_size)\n",
        "\n",
        "        if model_type == 'lstm':\n",
        "            self.rnn = nn.LSTM(input_size=rnn_size, hidden_size=rnn_size, num_layers=num_layers, dropout=dropout, batch_first=True)\n",
        "        else:\n",
        "            self.rnn = nn.RNN(input_size=rnn_size, hidden_size=rnn_size, num_layers=num_layers, nonlinearity='tanh', dropout=dropout, batch_first=True)\n",
        "\n",
        "        self.drop = nn.Dropout(dropout)\n",
        "        self.output = nn.Linear(rnn_size, n_categories)\n",
        "\n",
        "    def forward(self, x: torch.Tensor, last_pos: torch.Tensor) -> torch.Tensor:\n",
        "        embeds = self.embedding(x)\n",
        "        rnn_out, _ = self.rnn(embeds)\n",
        "        out = rnn_out[range(len(last_pos)), last_pos]\n",
        "        out = self.drop(out)\n",
        "        logits = self.output(out)\n",
        "        return logits"
      ],
      "id": "fL-rZK68u446"
    },
    {
      "cell_type": "markdown",
      "metadata": {
        "id": "zLbfIkC-u447"
      },
      "source": [
        "## Step 4: Preprocess the Dataset"
      ],
      "id": "zLbfIkC-u447"
    },
    {
      "cell_type": "code",
      "execution_count": 19,
      "metadata": {
        "id": "i3gNCz4Ku447"
      },
      "outputs": [],
      "source": [
        "import unicodedata\n",
        "import string\n",
        "from io import open\n",
        "import glob\n",
        "\n",
        "all_letters = string.ascii_letters + \" .,;'\"\n",
        "n_letters = len(all_letters)\n",
        "\n",
        "def unicodeToAscii(s):\n",
        "    return ''.join(c for c in unicodedata.normalize('NFD', s) if unicodedata.category(c) != 'Mn' and c in all_letters)\n",
        "\n",
        "category_lines = {}\n",
        "all_categories = []\n",
        "\n",
        "def readLines(filename):\n",
        "    lines = open(filename, encoding='utf-8').read().strip().split('\\n')\n",
        "    return [unicodeToAscii(line) for line in lines]\n",
        "\n",
        "for filename in glob.glob('data/names/*.txt'):\n",
        "    category = os.path.splitext(os.path.basename(filename))[0]\n",
        "    all_categories.append(category)\n",
        "    lines = readLines(filename)\n",
        "    category_lines[category] = lines\n",
        "\n",
        "n_categories = len(all_categories)"
      ],
      "id": "i3gNCz4Ku447"
    },
    {
      "cell_type": "markdown",
      "metadata": {
        "id": "TCMP4wMdu448"
      },
      "source": [
        "## Step 5: Data Encoding"
      ],
      "id": "TCMP4wMdu448"
    },
    {
      "cell_type": "code",
      "execution_count": 5,
      "metadata": {
        "id": "GkNoZ_aOu448"
      },
      "outputs": [],
      "source": [
        "def letterToIndex(letter):\n",
        "    return all_letters.index(letter)\n",
        "\n",
        "def build_data():\n",
        "    data = []\n",
        "    for cat in category_lines:\n",
        "        for name in category_lines[cat]:\n",
        "            token = np.ones(19, dtype=np.int64) * 57  # pad index\n",
        "            numerized = np.array([letterToIndex(l) for l in name])\n",
        "            n = len(numerized)\n",
        "            token[:n] = numerized\n",
        "            data.append((token, cat_to_num[cat], n-1))\n",
        "    return data\n",
        "\n",
        "cat_to_num = dict((v,k) for k,v in enumerate(category_lines.keys()))\n",
        "num_to_cat = dict(enumerate(category_lines.keys()))"
      ],
      "id": "GkNoZ_aOu448"
    },
    {
      "cell_type": "code",
      "source": [
        "data = build_data()\n",
        "seed = 227\n",
        "random.seed(seed)\n",
        "np.random.seed(seed)\n",
        "torch.manual_seed(seed)\n",
        "random.shuffle(data)"
      ],
      "metadata": {
        "id": "NH_Dno_pxVYB"
      },
      "id": "NH_Dno_pxVYB",
      "execution_count": 6,
      "outputs": []
    },
    {
      "cell_type": "code",
      "source": [
        "n_train = int(len(data) * 0.8)\n",
        "train_data = data[:n_train]\n",
        "test_data = data[n_train:]"
      ],
      "metadata": {
        "id": "OoZ7IYqbxZx0"
      },
      "id": "OoZ7IYqbxZx0",
      "execution_count": 7,
      "outputs": []
    },
    {
      "cell_type": "code",
      "source": [
        "len(train_data)"
      ],
      "metadata": {
        "colab": {
          "base_uri": "https://localhost:8080/"
        },
        "id": "3FYbWZ7xxjL_",
        "outputId": "7288b8cd-03f4-464a-cd29-db588af8116c"
      },
      "id": "3FYbWZ7xxjL_",
      "execution_count": 8,
      "outputs": [
        {
          "output_type": "execute_result",
          "data": {
            "text/plain": [
              "16059"
            ]
          },
          "metadata": {},
          "execution_count": 8
        }
      ]
    },
    {
      "cell_type": "markdown",
      "source": [
        "## Step 6: Build Batch Function"
      ],
      "metadata": {
        "id": "PYntQK4VzOfu"
      },
      "id": "PYntQK4VzOfu"
    },
    {
      "cell_type": "code",
      "source": [
        "def build_batch(dataset, indices):\n",
        "    '''\n",
        "    Helper function for creating a batch during training. Builds a batch\n",
        "    of source and target elements from the dataset.\n",
        "\n",
        "    Arguments:\n",
        "        dataset: List[db_element] -- A list of dataset elements\n",
        "        indices: List[int] -- A list of indices of the dataset to sample\n",
        "    Returns:\n",
        "        batch_input: List[List[int]] -- List of tensorized names\n",
        "        batch_target: List[int] -- List of numerical categories\n",
        "        batch_indices: List[int] -- List of starting indices of padding\n",
        "    '''\n",
        "    # Recover what the entries for the batch are\n",
        "    batch = [dataset[i] for i in indices]\n",
        "    batch_input = np.array(list(zip(*batch))[0])\n",
        "    batch_target = np.array(list(zip(*batch))[1])\n",
        "    batch_indices = np.array(list(zip(*batch))[2])\n",
        "    return batch_input, batch_target, batch_indices"
      ],
      "metadata": {
        "id": "Rp30i06HzTVL"
      },
      "id": "Rp30i06HzTVL",
      "execution_count": 9,
      "outputs": []
    },
    {
      "cell_type": "markdown",
      "metadata": {
        "id": "OvkFvI4Su448"
      },
      "source": [
        "## Step 7: Train the Model"
      ],
      "id": "OvkFvI4Su448"
    },
    {
      "cell_type": "code",
      "source": [
        "criterion = nn.CrossEntropyLoss()\n",
        "\n",
        "# The build_batch function outputs numpy, but our model is built in pytorch,\n",
        "# so we need to convert numpy to pytorch with the correct types.\n",
        "batch_to_torch = lambda b_in,b_target,b_mask: (torch.tensor(b_in).long(),\n",
        "                                               torch.tensor(b_target).long(),\n",
        "                                               torch.tensor(b_mask).long())"
      ],
      "metadata": {
        "id": "Hqakl_jBz61V"
      },
      "id": "Hqakl_jBz61V",
      "execution_count": 10,
      "outputs": []
    },
    {
      "cell_type": "code",
      "source": [
        "# Tune these hyperparameters for a better performance\n",
        "hidden_size = 128\n",
        "num_layers = 2\n",
        "dropout = 0.2\n",
        "optimizer_class = optim.Adam\n",
        "lr = 1e-3\n",
        "batch_size = 128\n",
        "\n",
        "epochs = 20\n",
        "\n",
        "device = torch.device(\"cuda\" if torch.cuda.is_available() else \"cpu\")\n",
        "print(\"You are using\", device, \"for training\")\n",
        "list_to_device = lambda th_obj: [tensor.to(device) for tensor in th_obj]"
      ],
      "metadata": {
        "colab": {
          "base_uri": "https://localhost:8080/"
        },
        "id": "Mv3bgxOIz8kF",
        "outputId": "73e62031-a005-4848-804b-86331135520c"
      },
      "id": "Mv3bgxOIz8kF",
      "execution_count": 11,
      "outputs": [
        {
          "output_type": "stream",
          "name": "stdout",
          "text": [
            "You are using cuda for training\n"
          ]
        }
      ]
    },
    {
      "cell_type": "code",
      "source": [
        "# Initialize the model\n",
        "seed = 1998\n",
        "random.seed(seed)\n",
        "np.random.seed(seed)\n",
        "torch.manual_seed(seed)\n",
        "rnn_model = RecurrentClassifier(vocab_size=len(all_letters) + 1, rnn_size=hidden_size, n_categories=n_categories, num_layers=num_layers, dropout=dropout, model_type='rnn')\n",
        "rnn_optimizer = optimizer_class(rnn_model.parameters(), lr=lr)"
      ],
      "metadata": {
        "id": "17XwzPs80Ki4"
      },
      "id": "17XwzPs80Ki4",
      "execution_count": 12,
      "outputs": []
    },
    {
      "cell_type": "code",
      "execution_count": 13,
      "metadata": {
        "id": "63WMK0vIu448",
        "colab": {
          "base_uri": "https://localhost:8080/"
        },
        "outputId": "9e0e0c7b-50ae-476b-882f-da9c94482faf"
      },
      "outputs": [
        {
          "output_type": "stream",
          "name": "stderr",
          "text": [
            "Epoch: 0  Iteration: 119  Loss: 0.9321637749671936: 100%|██████████| 126/126 [00:02<00:00, 45.61it/s]\n"
          ]
        },
        {
          "output_type": "stream",
          "name": "stdout",
          "text": [
            "Epoch: 0  Train Accuracy: 61.927890902297776\n",
            "Epoch: 0  Eval Accuracy: 70.43586550435865\n"
          ]
        },
        {
          "output_type": "stream",
          "name": "stderr",
          "text": [
            "Epoch: 1  Iteration: 119  Loss: 0.8645061910152435: 100%|██████████| 126/126 [00:00<00:00, 272.67it/s]\n"
          ]
        },
        {
          "output_type": "stream",
          "name": "stdout",
          "text": [
            "Epoch: 1  Train Accuracy: 73.74680864312846\n",
            "Epoch: 1  Eval Accuracy: 74.79452054794521\n"
          ]
        },
        {
          "output_type": "stream",
          "name": "stderr",
          "text": [
            "Epoch: 2  Iteration: 119  Loss: 0.766578608751297: 100%|██████████| 126/126 [00:00<00:00, 252.15it/s]\n"
          ]
        },
        {
          "output_type": "stream",
          "name": "stdout",
          "text": [
            "Epoch: 2  Train Accuracy: 76.95373310915997\n",
            "Epoch: 2  Eval Accuracy: 76.86176836861769\n"
          ]
        },
        {
          "output_type": "stream",
          "name": "stderr",
          "text": [
            "Epoch: 3  Iteration: 119  Loss: 0.6933191120624542: 100%|██████████| 126/126 [00:00<00:00, 240.61it/s]\n"
          ]
        },
        {
          "output_type": "stream",
          "name": "stdout",
          "text": [
            "Epoch: 3  Train Accuracy: 79.11451522510743\n",
            "Epoch: 3  Eval Accuracy: 77.8082191780822\n"
          ]
        },
        {
          "output_type": "stream",
          "name": "stderr",
          "text": [
            "Epoch: 4  Iteration: 119  Loss: 0.6630104184150696: 100%|██████████| 126/126 [00:00<00:00, 247.02it/s]\n"
          ]
        },
        {
          "output_type": "stream",
          "name": "stdout",
          "text": [
            "Epoch: 4  Train Accuracy: 80.7459991282147\n",
            "Epoch: 4  Eval Accuracy: 79.47696139476962\n"
          ]
        },
        {
          "output_type": "stream",
          "name": "stderr",
          "text": [
            "Epoch: 5  Iteration: 119  Loss: 0.6045774340629577: 100%|██████████| 126/126 [00:00<00:00, 240.30it/s]\n"
          ]
        },
        {
          "output_type": "stream",
          "name": "stdout",
          "text": [
            "Epoch: 5  Train Accuracy: 82.00386076343483\n",
            "Epoch: 5  Eval Accuracy: 80.32378580323785\n"
          ]
        },
        {
          "output_type": "stream",
          "name": "stderr",
          "text": [
            "Epoch: 6  Iteration: 119  Loss: 0.5438200175762177: 100%|██████████| 126/126 [00:00<00:00, 232.24it/s]\n"
          ]
        },
        {
          "output_type": "stream",
          "name": "stdout",
          "text": [
            "Epoch: 6  Train Accuracy: 83.29908462544367\n",
            "Epoch: 6  Eval Accuracy: 80.17434620174346\n"
          ]
        },
        {
          "output_type": "stream",
          "name": "stderr",
          "text": [
            "Epoch: 7  Iteration: 119  Loss: 0.4721939504146576: 100%|██████████| 126/126 [00:00<00:00, 232.53it/s]\n"
          ]
        },
        {
          "output_type": "stream",
          "name": "stdout",
          "text": [
            "Epoch: 7  Train Accuracy: 84.12728065259356\n",
            "Epoch: 7  Eval Accuracy: 80.59775840597759\n"
          ]
        },
        {
          "output_type": "stream",
          "name": "stderr",
          "text": [
            "Epoch: 8  Iteration: 119  Loss: 0.5049684882164002: 100%|██████████| 126/126 [00:00<00:00, 229.46it/s]\n"
          ]
        },
        {
          "output_type": "stream",
          "name": "stdout",
          "text": [
            "Epoch: 8  Train Accuracy: 84.68771405442432\n",
            "Epoch: 8  Eval Accuracy: 81.84308841843088\n"
          ]
        },
        {
          "output_type": "stream",
          "name": "stderr",
          "text": [
            "Epoch: 9  Iteration: 119  Loss: 0.4759313613176346: 100%|██████████| 126/126 [00:00<00:00, 209.90it/s]\n"
          ]
        },
        {
          "output_type": "stream",
          "name": "stdout",
          "text": [
            "Epoch: 9  Train Accuracy: 85.56572638395915\n",
            "Epoch: 9  Eval Accuracy: 81.1706102117061\n"
          ]
        },
        {
          "output_type": "stream",
          "name": "stderr",
          "text": [
            "Epoch: 10  Iteration: 119  Loss: 0.4532152324914932: 100%|██████████| 126/126 [00:00<00:00, 165.90it/s]\n"
          ]
        },
        {
          "output_type": "stream",
          "name": "stdout",
          "text": [
            "Epoch: 10  Train Accuracy: 85.9642568030388\n",
            "Epoch: 10  Eval Accuracy: 80.69738480697384\n"
          ]
        },
        {
          "output_type": "stream",
          "name": "stderr",
          "text": [
            "Epoch: 11  Iteration: 119  Loss: 0.4175950109958649: 100%|██████████| 126/126 [00:00<00:00, 218.98it/s]\n"
          ]
        },
        {
          "output_type": "stream",
          "name": "stdout",
          "text": [
            "Epoch: 11  Train Accuracy: 86.68036614982253\n",
            "Epoch: 11  Eval Accuracy: 81.12079701120797\n"
          ]
        },
        {
          "output_type": "stream",
          "name": "stderr",
          "text": [
            "Epoch: 12  Iteration: 119  Loss: 0.45819019079208373: 100%|██████████| 126/126 [00:00<00:00, 225.80it/s]\n"
          ]
        },
        {
          "output_type": "stream",
          "name": "stdout",
          "text": [
            "Epoch: 12  Train Accuracy: 87.05398841770969\n",
            "Epoch: 12  Eval Accuracy: 81.64383561643835\n"
          ]
        },
        {
          "output_type": "stream",
          "name": "stderr",
          "text": [
            "Epoch: 13  Iteration: 119  Loss: 0.3976203739643097: 100%|██████████| 126/126 [00:00<00:00, 205.95it/s]\n"
          ]
        },
        {
          "output_type": "stream",
          "name": "stdout",
          "text": [
            "Epoch: 13  Train Accuracy: 87.65178404632917\n",
            "Epoch: 13  Eval Accuracy: 81.51930261519303\n"
          ]
        },
        {
          "output_type": "stream",
          "name": "stderr",
          "text": [
            "Epoch: 14  Iteration: 119  Loss: 0.39101327806711195: 100%|██████████| 126/126 [00:00<00:00, 176.99it/s]\n"
          ]
        },
        {
          "output_type": "stream",
          "name": "stdout",
          "text": [
            "Epoch: 14  Train Accuracy: 88.04408742761069\n",
            "Epoch: 14  Eval Accuracy: 81.76836861768368\n"
          ]
        },
        {
          "output_type": "stream",
          "name": "stderr",
          "text": [
            "Epoch: 15  Iteration: 119  Loss: 0.41364612281322477: 100%|██████████| 126/126 [00:00<00:00, 231.90it/s]\n"
          ]
        },
        {
          "output_type": "stream",
          "name": "stdout",
          "text": [
            "Epoch: 15  Train Accuracy: 88.57338564045084\n",
            "Epoch: 15  Eval Accuracy: 81.51930261519303\n"
          ]
        },
        {
          "output_type": "stream",
          "name": "stderr",
          "text": [
            "Epoch: 16  Iteration: 119  Loss: 0.32413045018911363: 100%|██████████| 126/126 [00:00<00:00, 286.07it/s]\n"
          ]
        },
        {
          "output_type": "stream",
          "name": "stdout",
          "text": [
            "Epoch: 16  Train Accuracy: 88.95323494613613\n",
            "Epoch: 16  Eval Accuracy: 81.91780821917808\n"
          ]
        },
        {
          "output_type": "stream",
          "name": "stderr",
          "text": [
            "Epoch: 17  Iteration: 119  Loss: 0.3022023543715477: 100%|██████████| 126/126 [00:00<00:00, 271.49it/s]\n"
          ]
        },
        {
          "output_type": "stream",
          "name": "stdout",
          "text": [
            "Epoch: 17  Train Accuracy: 89.38290055420637\n",
            "Epoch: 17  Eval Accuracy: 81.0211706102117\n"
          ]
        },
        {
          "output_type": "stream",
          "name": "stderr",
          "text": [
            "Epoch: 18  Iteration: 119  Loss: 0.32377448976039885: 100%|██████████| 126/126 [00:00<00:00, 288.03it/s]\n"
          ]
        },
        {
          "output_type": "stream",
          "name": "stdout",
          "text": [
            "Epoch: 18  Train Accuracy: 89.81256616227661\n",
            "Epoch: 18  Eval Accuracy: 80.97135740971358\n"
          ]
        },
        {
          "output_type": "stream",
          "name": "stderr",
          "text": [
            "Epoch: 19  Iteration: 119  Loss: 0.31771175265312196: 100%|██████████| 126/126 [00:00<00:00, 273.18it/s]\n"
          ]
        },
        {
          "output_type": "stream",
          "name": "stdout",
          "text": [
            "Epoch: 19  Train Accuracy: 90.17373435456754\n",
            "Epoch: 19  Eval Accuracy: 81.79327521793275\n"
          ]
        }
      ],
      "source": [
        "def train(model, optimizer, criterion, epochs, batch_size, seed):\n",
        "    model.to(device)\n",
        "    model.train()\n",
        "    train_losses = []\n",
        "    train_accuracies = []\n",
        "    eval_accuracies = []\n",
        "    for epoch in range(epochs):\n",
        "        random.seed(seed + epoch)\n",
        "        np.random.seed(seed + epoch)\n",
        "        torch.manual_seed(seed + epoch)\n",
        "        indices = np.random.permutation(range(len(train_data)))\n",
        "        n_correct, n_total = 0, 0\n",
        "        progress_bar = tqdm(range(0, (len(train_data) // batch_size) + 1))\n",
        "        for i in progress_bar:\n",
        "            batch = build_batch(train_data, indices[i*batch_size:(i+1)*batch_size])\n",
        "            (batch_input, batch_target, batch_indices) = batch_to_torch(*batch)\n",
        "            (batch_input, batch_target, batch_indices) = list_to_device((batch_input, batch_target, batch_indices))\n",
        "\n",
        "            logits = model(batch_input, batch_indices)\n",
        "            loss = criterion(logits, batch_target)\n",
        "            train_losses.append(loss.item())\n",
        "\n",
        "            predictions = logits.argmax(dim=-1)\n",
        "            n_correct += (predictions == batch_target).sum().item()\n",
        "            n_total += batch_target.size(0)\n",
        "\n",
        "            optimizer.zero_grad()\n",
        "            loss.backward()\n",
        "            optimizer.step()\n",
        "\n",
        "            if (i + 1) % 10 == 0:\n",
        "                progress_bar.set_description(f\"Epoch: {epoch}  Iteration: {i}  Loss: {np.mean(train_losses[-10:])}\")\n",
        "        train_accuracies.append(n_correct / n_total * 100)\n",
        "        print(f\"Epoch: {epoch}  Train Accuracy: {n_correct / n_total * 100}\")\n",
        "\n",
        "        with torch.no_grad():\n",
        "            indices = list(range(len(test_data)))\n",
        "            n_correct, n_total = 0, 0\n",
        "            for i in range(0, (len(test_data) // batch_size) + 1):\n",
        "                batch = build_batch(test_data, indices[i*batch_size:(i+1)*batch_size])\n",
        "                (batch_input, batch_target, batch_indices) = batch_to_torch(*batch)\n",
        "                (batch_input, batch_target, batch_indices) = list_to_device((batch_input, batch_target, batch_indices))\n",
        "\n",
        "                logits = model(batch_input, batch_indices)\n",
        "                predictions = logits.argmax(dim=-1)\n",
        "                n_correct += (predictions == batch_target).sum().item()\n",
        "                n_total += batch_target.size(0)\n",
        "            eval_accuracies.append(n_correct / n_total * 100)\n",
        "            print(f\"Epoch: {epoch}  Eval Accuracy: {n_correct / n_total * 100}\")\n",
        "\n",
        "    to_save = {\n",
        "        \"history\": {\n",
        "            \"train_losses\": train_losses,\n",
        "            \"train_accuracies\": train_accuracies,\n",
        "            \"eval_accuracies\": eval_accuracies,\n",
        "        },\n",
        "        \"hparams\": {\n",
        "            \"hidden_size\": hidden_size,\n",
        "            \"num_layers\": num_layers,\n",
        "            \"dropout\": dropout,\n",
        "            \"optimizer_class\": optimizer_class.__name__,\n",
        "            \"lr\": lr,\n",
        "            \"batch_size\": batch_size,\n",
        "            \"epochs\": epochs,\n",
        "            \"seed\": seed\n",
        "        },\n",
        "        \"model\": [\n",
        "            (name, list(param.shape))\n",
        "            for name, param in rnn_model.named_parameters()\n",
        "        ]\n",
        "    }\n",
        "    return to_save\n",
        "\n",
        "# Train the model\n",
        "rnn_log = train(rnn_model, rnn_optimizer, criterion, epochs, batch_size, 1997)"
      ],
      "id": "63WMK0vIu448"
    },
    {
      "cell_type": "markdown",
      "source": [
        "## Step 7: Evaluation"
      ],
      "metadata": {
        "id": "1B2i0_GcvVRw"
      },
      "id": "1B2i0_GcvVRw"
    },
    {
      "cell_type": "code",
      "source": [
        "plt.plot(rnn_log[\"history\"][\"train_losses\"], alpha=0.4, color=\"blue\")\n",
        "moving_avg = np.convolve(np.array(rnn_log[\"history\"][\"train_losses\"]), np.ones(10), 'valid') / 10\n",
        "plt.plot(range(9, len(rnn_log[\"history\"][\"train_losses\"])), moving_avg.tolist(), color=\"blue\")\n",
        "plt.xlabel(\"Iterations\")\n",
        "plt.title(\"RNN Training Loss\")\n",
        "plt.show()"
      ],
      "metadata": {
        "id": "fGkGrmwfvXrs",
        "outputId": "3c69589a-ca67-4dcc-b528-5e1c2acbdcbb",
        "colab": {
          "base_uri": "https://localhost:8080/",
          "height": 472
        }
      },
      "id": "fGkGrmwfvXrs",
      "execution_count": 14,
      "outputs": [
        {
          "output_type": "display_data",
          "data": {
            "text/plain": [
              "<Figure size 640x480 with 1 Axes>"
            ],
            "image/png": "[encoded data removed]"
          },
          "metadata": {}
        }
      ]
    },
    {
      "cell_type": "markdown",
      "source": [
        "## Step 8: Test the Model with Your Own Name"
      ],
      "metadata": {
        "id": "kiRGai2Fvb5K"
      },
      "id": "kiRGai2Fvb5K"
    },
    {
      "cell_type": "code",
      "source": [
        "def classify_name(name, model):\n",
        "    token = np.ones(19, dtype=np.int64) * 57\n",
        "    numerized = np.array([letterToIndex(l) for l in name])\n",
        "    n = len(numerized)\n",
        "    token[:n] = numerized\n",
        "    logits = model(torch.tensor(token, dtype=torch.long)[None, :], torch.tensor([n - 1], dtype=torch.long))\n",
        "    return logits.argmax(dim=-1).item()\n",
        "\n",
        "model = rnn_model\n",
        "model.eval()\n",
        "model.cpu()\n",
        "name = \"Tanaka\"\n",
        "print(\"Predicting origin language for name: \"+ name)\n",
        "c = classify_name(name, model)\n",
        "print(num_to_cat[c])"
      ],
      "metadata": {
        "id": "sIiHgP7pvYQe",
        "colab": {
          "base_uri": "https://localhost:8080/"
        },
        "outputId": "0d3cba88-3373-4466-b6fc-ea67b50c45f4"
      },
      "id": "sIiHgP7pvYQe",
      "execution_count": 18,
      "outputs": [
        {
          "output_type": "stream",
          "name": "stdout",
          "text": [
            "Predicting origin language for name: Tanaka\n",
            "Japanese\n"
          ]
        }
      ]
    }
  ],
  "metadata": {
    "kernelspec": {
      "display_name": "Python 3",
      "name": "python3"
    },
    "language_info": {
      "name": "python",
      "version": "3.7"
    },
    "colab": {
      "provenance": [],
      "gpuType": "T4"
    },
    "accelerator": "GPU"
  },
  "nbformat": 4,
  "nbformat_minor": 5
}